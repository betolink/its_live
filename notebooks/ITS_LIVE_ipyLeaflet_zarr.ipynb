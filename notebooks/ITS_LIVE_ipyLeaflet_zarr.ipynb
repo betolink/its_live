{
 "cells": [
  {
   "cell_type": "markdown",
   "id": "58e55ae9",
   "metadata": {},
   "source": [
    "<div>\n",
    "    <h1><center>\n",
    "        <img src=\"https://its-live-data.s3.amazonaws.com/documentation/ITS_LIVE_logo.png\" width=\"500\"/>\n",
    "        </center></h1>\n",
    "    <h1><center>\n",
    "        Global glacier velocity point data access<br>\n",
    "        using an ipyLeaflet basemap<br>\n",
    "        </center></h1>\n",
    "</div>\n",
    "\n",
    "***\n",
    "\n",
    "Author: Mark Fahnestock, Geophysical Institute, University of Alaska Fairbanks\n",
    "Date: November 8, 2021\n",
    "\n",
    "***"
   ]
  },
  {
   "cell_type": "markdown",
   "id": "bfb050c5",
   "metadata": {},
   "source": [
    "# Overview\n",
    "\n",
    "This notebook allows you to select a set of point locations on a Leaflet-based global map, fetch all available ITS_LIVE glacier velocities for the locations, and plot the results.\n",
    "\n",
    "Select the points by double-clicking on the map - click and drag on the map to pan the field of view.\n",
    "\n",
    "Once points are chosen, hit \"Make Plot\" (bottom right corner) to produce a plot.\n",
    "\n",
    "You can drag individual points after they are placed to relocate them, and then \"Make Plot\" again\n",
    "\n",
    "Click \"Clear Points\" to start over.\n",
    "\n",
    "The notebook is set up to show data coverage for a small set of \"All Satellite\" datacubes by default (parts of Greenland/Svalbard/Alaska only for now), but if you select Landsat 8 it will instead use a global collection of Landsat 8 datacubes.\n",
    "\n",
    "Underling data is stored on AWS S3 as Zarr datacubes and is accessed without an intermediate server. Glacier velocities in the \"All Satellite\" datacube collection are derived from all available Landsat 8, Sentinel-1A/B, Sentinel-2A/B imagery, while they are limited to Landsat 8 for now in the global dataset.\n",
    "\n",
    "\n",
    "Please refer to the <a href=\"https://its-live.jpl.nasa.gov/\">project website</a> for further product infomation and for appraopriate data citation.\n",
    "\n",
    "### Setting up a local environment\n",
    "\n",
    "From the repository root, run in a terminal:\n",
    "```shell\n",
    "cd notebooks\n",
    "conda env create -f environment.yml\n",
    "```\n",
    "activate newly created environment:\n",
    "```shell\n",
    "conda activate itslive-notebooks\n",
    "```\n",
    "\n",
    "then start jupyter in browser\n",
    "```shell\n",
    "jupyter notebook\n",
    "```"
   ]
  },
  {
   "cell_type": "code",
   "execution_count": null,
   "id": "f3af813f",
   "metadata": {},
   "outputs": [],
   "source": [
    "%%time\n",
    "%matplotlib widget\n",
    "# import the library\n",
    "from velocity_widget import ITSLIVE_Map\n",
    "\n",
    "velocity_widget = ITSLIVE_Map()\n",
    "# we display the map widget on the side and the plot in the notebook\n",
    "velocity_widget.display()"
   ]
  }
 ],
 "metadata": {
  "kernelspec": {
   "display_name": "Python 3 (ipykernel)",
   "language": "python",
   "name": "python3"
  },
  "language_info": {
   "codemirror_mode": {
    "name": "ipython",
    "version": 3
   },
   "file_extension": ".py",
   "mimetype": "text/x-python",
   "name": "python",
   "nbconvert_exporter": "python",
   "pygments_lexer": "ipython3",
   "version": "3.9.7"
  }
 },
 "nbformat": 4,
 "nbformat_minor": 5
}
